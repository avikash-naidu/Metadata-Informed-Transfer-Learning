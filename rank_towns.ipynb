{
  "nbformat": 4,
  "nbformat_minor": 0,
  "metadata": {
    "colab": {
      "provenance": [],
      "toc_visible": true
    },
    "kernelspec": {
      "name": "python3",
      "display_name": "Python 3"
    },
    "language_info": {
      "name": "python"
    }
  },
  "cells": [
    {
      "cell_type": "code",
      "source": [
        "#Town Population Data\n",
        "\n",
        "cromwell_pop = 7010\n",
        "masterton_pop = 22400\n",
        "invercargill_pop = 49800\n",
        "reefton_pop = 930\n",
        "#https://nzdotstat.stats.govt.nz/wbos/Index.aspx?\n",
        "\n",
        "cromwell_area = 15.63 #km²\n",
        "masterton_area = 22.5 #km²\n",
        "invercargill_area = 62.95 #km²\n",
        "reefton_area = 2.63 #km²\n",
        "\n",
        "cromwell_density = cromwell_pop/cromwell_area\n",
        "masterton_density = masterton_pop/masterton_area\n",
        "invercargill_density = invercargill_pop/invercargill_area\n",
        "reefton_density = reefton_pop/reefton_area\n",
        "\n",
        "#https://statsnz.maps.arcgis.com/apps/webappviewer/index.html?id=6f49867abe464f86ac7526552fe19787\n",
        "\n",
        "# Population density for each town\n",
        "town_density = {\n",
        "    'Invercargill': invercargill_density,\n",
        "    'Cromwell': cromwell_density,\n",
        "    'Masterton': masterton_density,\n",
        "    'Reefton': reefton_density\n",
        "}\n",
        "\n",
        "\n",
        "# Print population densities\n",
        "print(\"Population Density of Cromwell:\", cromwell_density, \"people/km²\")\n",
        "print(\"Population Density of Masterton:\", masterton_density, \"people/km²\")\n",
        "print(\"Population Density of Invercargill:\", invercargill_density, \"people/km²\")\n",
        "print(\"Population Density of Reefton:\", reefton_density, \"people/km²\")\n"
      ],
      "metadata": {
        "colab": {
          "base_uri": "https://localhost:8080/"
        },
        "id": "3AyE-Y3z1-2s",
        "outputId": "d9cd72c6-534a-4e46-c82f-f25cd481f991"
      },
      "execution_count": null,
      "outputs": [
        {
          "output_type": "stream",
          "name": "stdout",
          "text": [
            "Population Density of Cromwell: 448.49648112603967 people/km²\n",
            "Population Density of Masterton: 995.5555555555555 people/km²\n",
            "Population Density of Invercargill: 791.1040508339952 people/km²\n",
            "Population Density of Reefton: 353.61216730038024 people/km²\n"
          ]
        }
      ]
    },
    {
      "cell_type": "code",
      "source": [
        "#Town Altitude\n",
        "#https://en-nz.topographic-map.com\n",
        "\n",
        "cromwell_altitude = 396\n",
        "masterton_altitude = 111\n",
        "invercargill_altitude = 18\n",
        "reefton_altitude = 195\n",
        "\n",
        "town_altitude = {\n",
        "    'Invercargill': invercargill_altitude,\n",
        "    'Cromwell': cromwell_altitude,\n",
        "    'Masterton': masterton_altitude,\n",
        "    'Reefton': reefton_altitude\n",
        "}"
      ],
      "metadata": {
        "id": "PawwX0acBCAp"
      },
      "execution_count": null,
      "outputs": []
    },
    {
      "cell_type": "code",
      "source": [
        "#Wood Burners\n",
        "invercargill_woodburner=10503\n",
        "masterton_woodburner=6648\n",
        "reefton_woodburner=477\n",
        "cromwell_woodburner=1350\n",
        "\n",
        "cromwell_area = 15.63 #km²\n",
        "masterton_area = 22.5 #km²\n",
        "invercargill_area = 62.95 #km²\n",
        "reefton_area = 2.63 #km²\n",
        "\n",
        "invercargill_woodburner_density = invercargill_woodburner/invercargill_area\n",
        "masterton_woodburner_density = masterton_woodburner/masterton_area\n",
        "cromwell_woodburner_density = cromwell_woodburner/cromwell_area\n",
        "reefton_woodburner_density = reefton_woodburner/reefton_area\n",
        "\n",
        "town_woodburner = {\n",
        "    'Invercargill': invercargill_woodburner_density,\n",
        "    'Cromwell': cromwell_woodburner_density,\n",
        "    'Masterton': masterton_woodburner_density,\n",
        "    'Reefton': reefton_woodburner_density\n",
        "}"
      ],
      "metadata": {
        "id": "_iaQ9-Ijsexd"
      },
      "execution_count": null,
      "outputs": []
    },
    {
      "cell_type": "code",
      "source": [
        "print(town_woodburner)"
      ],
      "metadata": {
        "colab": {
          "base_uri": "https://localhost:8080/"
        },
        "id": "8YGFnd38tWq6",
        "outputId": "5fa58815-1d83-4a75-8e95-4c4dd5a6cc62"
      },
      "execution_count": null,
      "outputs": [
        {
          "output_type": "stream",
          "name": "stdout",
          "text": [
            "{'Invercargill': 166.84670373312153, 'Cromwell': 86.37236084452975, 'Masterton': 295.46666666666664, 'Reefton': 181.36882129277566}\n"
          ]
        }
      ]
    },
    {
      "cell_type": "code",
      "source": [
        "import pandas as pd\n",
        "from sklearn.preprocessing import MinMaxScaler\n",
        "\n",
        "town_names = ['Invercargill', 'Cromwell', 'Masterton', 'Reefton']\n",
        "file_path_template = '/content/drive/Shareddrives/700Docs/MetaData/Plot/{}_{}.csv'\n",
        "\n",
        "town_wind = {}\n",
        "town_pressure = {}\n",
        "\n",
        "# Load the data for each town\n",
        "for town in town_names:\n",
        "    file_path = file_path_template.format(town, \"Wind\")\n",
        "    df = pd.read_csv(file_path)\n",
        "    town_wind[town] = df['Speed(m/s)'].dropna()\n",
        "\n",
        "    # Normalize wind speed data using Min-Max normalization to range [0, 1]\n",
        "    scaler_wind = MinMaxScaler()\n",
        "    town_wind[town] = scaler_wind.fit_transform(town_wind[town].values.reshape(-1, 1)).flatten()\n",
        "\n",
        "    file_path = file_path_template.format(town, \"Pressure\")\n",
        "    df = pd.read_csv(file_path)\n",
        "    town_pressure[town] = df['Pstn(hPa)'].dropna()\n",
        "\n",
        "    # Normalize pressure data using Min-Max normalization to range [0, 1]\n",
        "    scaler_pressure = MinMaxScaler()\n",
        "    town_pressure[town] = scaler_pressure.fit_transform(town_pressure[town].values.reshape(-1, 1)).flatten()"
      ],
      "metadata": {
        "id": "2v0EKAih2NGl"
      },
      "execution_count": null,
      "outputs": []
    },
    {
      "cell_type": "code",
      "source": [],
      "metadata": {
        "id": "xMZN4J6JoDbF"
      },
      "execution_count": null,
      "outputs": []
    },
    {
      "cell_type": "code",
      "execution_count": null,
      "metadata": {
        "id": "wljdnh0ylLck"
      },
      "outputs": [],
      "source": [
        "from scipy.stats import wasserstein_distance\n",
        "\n",
        "def earthmover_distance(data1, data2):\n",
        "    # Compute the Earth Mover's distance (Wasserstein distance) between two distributions\n",
        "    emd = wasserstein_distance(data1, data2)\n",
        "    return emd\n"
      ]
    },
    {
      "cell_type": "code",
      "source": [
        "from scipy.stats import ks_2samp\n",
        "\n",
        "def compare_distributions_KS(data1, data2):\n",
        "    # Perform the Kolmogorov-Smirnov (KS) test between two distributions\n",
        "    ks_statistic, p_value = ks_2samp(data1, data2)\n",
        "\n",
        "    return ks_statistic, p_value"
      ],
      "metadata": {
        "id": "uTjq4gyN3Y2C"
      },
      "execution_count": null,
      "outputs": []
    },
    {
      "cell_type": "code",
      "source": [
        "#Original but realised it was wrong\n",
        "# def normalize_value(value):\n",
        "#     \"\"\"\n",
        "#     Normalize a given value using the specified formula.\n",
        "#     \"\"\"\n",
        "#     return value / 10**np.ceil(np.log10(abs(value)))"
      ],
      "metadata": {
        "id": "Dr1PaFWD96J6"
      },
      "execution_count": null,
      "outputs": []
    },
    {
      "cell_type": "code",
      "source": [
        "def difference(town1,town2,maxValue,minValue):\n",
        "    \"\"\"\n",
        "    Normalize a given value using decimal scaling\n",
        "    \"\"\"\n",
        "    return abs(abs(town1-town2)-minValue)/(maxValue-minValue)"
      ],
      "metadata": {
        "id": "p0m1SXCmNFc-"
      },
      "execution_count": null,
      "outputs": []
    },
    {
      "cell_type": "code",
      "source": [
        "import numpy as np\n",
        "\n",
        "def calculate_town_rankings(town_names, town_wind, town_pressure, town_density, town_altitude,town_woodburner,\n",
        "                            wind_weight, pressure_weight, density_weight, altitude_weight,woodburner_weight):\n",
        "    results = {}\n",
        "\n",
        "    for target_town in town_names:\n",
        "        scores = {\n",
        "            source_town: (\n",
        "                wind_weight * earthmover_distance(town_wind[source_town], town_wind[target_town]) +\n",
        "                pressure_weight * earthmover_distance(town_pressure[source_town], town_pressure[target_town]) +\n",
        "                density_weight * difference(town_density[source_town],town_density[target_town],max(town_density.values()),min(town_density.values())) +\n",
        "                altitude_weight * difference(town_altitude[source_town],town_altitude[target_town],max(town_altitude.values()),min(town_altitude.values())) +\n",
        "                woodburner_weight * difference(town_woodburner[source_town],town_woodburner[target_town],max(town_woodburner.values()),min(town_woodburner.values()))\n",
        "            )\n",
        "            for source_town in town_names if source_town != target_town\n",
        "        }\n",
        "\n",
        "        results[target_town] = sorted(scores.items(), key=lambda x: x[1])\n",
        "\n",
        "    return results\n",
        "\n"
      ],
      "metadata": {
        "id": "yael4nua2LU9"
      },
      "execution_count": null,
      "outputs": []
    },
    {
      "cell_type": "code",
      "source": [
        "earthmover_distance(town_wind[\"Invercargill\"], town_wind[\"Cromwell\"])"
      ],
      "metadata": {
        "colab": {
          "base_uri": "https://localhost:8080/"
        },
        "id": "USajpGA62zrB",
        "outputId": "cf066a48-b9e0-4818-8627-5d06fbcb9403"
      },
      "execution_count": null,
      "outputs": [
        {
          "output_type": "execute_result",
          "data": {
            "text/plain": [
              "0.009801594005568952"
            ]
          },
          "metadata": {},
          "execution_count": 19
        }
      ]
    },
    {
      "cell_type": "code",
      "source": [
        "wind_weight = 0.3125\n",
        "pressure_weight = 0.21875\n",
        "density_weight = 0.3125\n",
        "altitude_weight = 0.03125\n",
        "woodburner_weight = 0.125\n",
        "\n",
        "result_rankings = calculate_town_rankings(town_names, town_wind, town_pressure, town_density, town_altitude,town_woodburner,\n",
        "                                              wind_weight, pressure_weight, density_weight, altitude_weight, woodburner_weight)\n",
        "\n",
        "for target_town, rankings in result_rankings.items():\n",
        "    print(f\"Ranking of source towns for target town '{target_town}':\")\n",
        "    for rank, (source_town, score) in enumerate(rankings, start=1):\n",
        "        print(f\"{rank}. {source_town} (Score: {score:.4f})\")\n",
        "    print(\"\\n\")"
      ],
      "metadata": {
        "colab": {
          "base_uri": "https://localhost:8080/"
        },
        "id": "TsErLcnZnp6i",
        "outputId": "99cf6ef6-2088-4e64-f740-77388491aebd"
      },
      "execution_count": null,
      "outputs": [
        {
          "output_type": "stream",
          "name": "stdout",
          "text": [
            "Ranking of source towns for target town 'Invercargill':\n",
            "1. Cromwell (Score: 0.0440)\n",
            "2. Reefton (Score: 0.1094)\n",
            "3. Masterton (Score: 0.1307)\n",
            "\n",
            "\n",
            "Ranking of source towns for target town 'Cromwell':\n",
            "1. Invercargill (Score: 0.0440)\n",
            "2. Reefton (Score: 0.1582)\n",
            "3. Masterton (Score: 0.2184)\n",
            "\n",
            "\n",
            "Ranking of source towns for target town 'Masterton':\n",
            "1. Invercargill (Score: 0.1307)\n",
            "2. Reefton (Score: 0.1963)\n",
            "3. Cromwell (Score: 0.2184)\n",
            "\n",
            "\n",
            "Ranking of source towns for target town 'Reefton':\n",
            "1. Invercargill (Score: 0.1094)\n",
            "2. Cromwell (Score: 0.1582)\n",
            "3. Masterton (Score: 0.1963)\n",
            "\n",
            "\n"
          ]
        }
      ]
    },
    {
      "cell_type": "code",
      "source": [
        "ground_truth = {'Invercargill': ['Cromwell', 'Reefton', 'Masterton'],\n",
        "                'Cromwell': ['Invercargill', 'Reefton', 'Masterton'],\n",
        "                'Masterton': ['Invercargill', 'Cromwell', 'Reefton'],\n",
        "                'Reefton': ['Invercargill', 'Cromwell', 'Masterton']}\n"
      ],
      "metadata": {
        "id": "kalv8lhu19km"
      },
      "execution_count": null,
      "outputs": []
    },
    {
      "cell_type": "code",
      "source": [
        "weight_set_rankings = {}\n",
        "for weight_idx in range(5):\n",
        "    current_weight_id = \"\"\n",
        "    wind_weight = 0\n",
        "    pressure_weight = 0\n",
        "    density_weight = 0\n",
        "    altitude_weight = 0\n",
        "    woodburner_weight = 0\n",
        "\n",
        "    if weight_idx == 0:\n",
        "        current_weight_id = \"Wind\"\n",
        "        wind_weight = 1\n",
        "    elif weight_idx == 1:\n",
        "        current_weight_id = \"Pressure\"\n",
        "        pressure_weight = 1\n",
        "    elif weight_idx == 2:\n",
        "        current_weight_id = \"Population Density\"\n",
        "        density_weight = 1\n",
        "    elif weight_idx ==3:\n",
        "        current_weight_id = \"Altitude\"\n",
        "        altitude_weight = 1\n",
        "    else:\n",
        "        current_weight_id = \"Wood Burner\"\n",
        "        woodburner_weight = 1\n",
        "\n",
        "    result_rankings = calculate_town_rankings(town_names, town_wind, town_pressure, town_density, town_altitude,town_woodburner,\n",
        "                                              wind_weight, pressure_weight, density_weight, altitude_weight, woodburner_weight)\n",
        "\n",
        "    weight_set_rankings[current_weight_id] = result_rankings\n",
        "\n",
        "# Print the stored rankings for each weight set\n",
        "for weight_set, result_rankings in weight_set_rankings.items():\n",
        "    print(f\"Testing {weight_set}:\")\n",
        "    for target_town, source_rankings in result_rankings.items():\n",
        "        print(f\"Ranking of source towns for target town '{target_town}':\")\n",
        "        for rank, (source_town, score) in enumerate(source_rankings, start=1):\n",
        "            print(f\"{rank}. {source_town} (Score: {score:.4f})\")\n",
        "        print(\"\\n\")"
      ],
      "metadata": {
        "id": "gZck36Rzx5zS",
        "colab": {
          "base_uri": "https://localhost:8080/"
        },
        "outputId": "b04c1c8f-2a4a-4387-ef15-3b298b5fe763"
      },
      "execution_count": null,
      "outputs": [
        {
          "output_type": "stream",
          "name": "stdout",
          "text": [
            "Testing Wind:\n",
            "Ranking of source towns for target town 'Invercargill':\n",
            "1. Cromwell (Score: 0.0098)\n",
            "2. Reefton (Score: 0.0293)\n",
            "3. Masterton (Score: 0.0754)\n",
            "\n",
            "\n",
            "Ranking of source towns for target town 'Cromwell':\n",
            "1. Invercargill (Score: 0.0098)\n",
            "2. Reefton (Score: 0.0303)\n",
            "3. Masterton (Score: 0.0752)\n",
            "\n",
            "\n",
            "Ranking of source towns for target town 'Masterton':\n",
            "1. Cromwell (Score: 0.0752)\n",
            "2. Invercargill (Score: 0.0754)\n",
            "3. Reefton (Score: 0.0895)\n",
            "\n",
            "\n",
            "Ranking of source towns for target town 'Reefton':\n",
            "1. Invercargill (Score: 0.0293)\n",
            "2. Cromwell (Score: 0.0303)\n",
            "3. Masterton (Score: 0.0895)\n",
            "\n",
            "\n",
            "Testing Pressure:\n",
            "Ranking of source towns for target town 'Invercargill':\n",
            "1. Cromwell (Score: 0.0107)\n",
            "2. Masterton (Score: 0.0139)\n",
            "3. Reefton (Score: 0.0151)\n",
            "\n",
            "\n",
            "Ranking of source towns for target town 'Cromwell':\n",
            "1. Invercargill (Score: 0.0107)\n",
            "2. Reefton (Score: 0.0116)\n",
            "3. Masterton (Score: 0.0242)\n",
            "\n",
            "\n",
            "Ranking of source towns for target town 'Masterton':\n",
            "1. Invercargill (Score: 0.0139)\n",
            "2. Cromwell (Score: 0.0242)\n",
            "3. Reefton (Score: 0.0272)\n",
            "\n",
            "\n",
            "Ranking of source towns for target town 'Reefton':\n",
            "1. Cromwell (Score: 0.0116)\n",
            "2. Invercargill (Score: 0.0151)\n",
            "3. Masterton (Score: 0.0272)\n",
            "\n",
            "\n",
            "Testing Population Density:\n",
            "Ranking of source towns for target town 'Invercargill':\n",
            "1. Cromwell (Score: 0.0171)\n",
            "2. Reefton (Score: 0.1307)\n",
            "3. Masterton (Score: 0.2324)\n",
            "\n",
            "\n",
            "Ranking of source towns for target town 'Cromwell':\n",
            "1. Invercargill (Score: 0.0171)\n",
            "2. Masterton (Score: 0.3013)\n",
            "3. Reefton (Score: 0.4030)\n",
            "\n",
            "\n",
            "Ranking of source towns for target town 'Masterton':\n",
            "1. Invercargill (Score: 0.2324)\n",
            "2. Cromwell (Score: 0.3013)\n",
            "3. Reefton (Score: 0.4492)\n",
            "\n",
            "\n",
            "Ranking of source towns for target town 'Reefton':\n",
            "1. Invercargill (Score: 0.1307)\n",
            "2. Cromwell (Score: 0.4030)\n",
            "3. Masterton (Score: 0.4492)\n",
            "\n",
            "\n",
            "Testing Altitude:\n",
            "Ranking of source towns for target town 'Invercargill':\n",
            "1. Masterton (Score: 0.1984)\n",
            "2. Reefton (Score: 0.4206)\n",
            "3. Cromwell (Score: 0.9524)\n",
            "\n",
            "\n",
            "Ranking of source towns for target town 'Cromwell':\n",
            "1. Reefton (Score: 0.4841)\n",
            "2. Masterton (Score: 0.7063)\n",
            "3. Invercargill (Score: 0.9524)\n",
            "\n",
            "\n",
            "Ranking of source towns for target town 'Masterton':\n",
            "1. Reefton (Score: 0.1746)\n",
            "2. Invercargill (Score: 0.1984)\n",
            "3. Cromwell (Score: 0.7063)\n",
            "\n",
            "\n",
            "Ranking of source towns for target town 'Reefton':\n",
            "1. Masterton (Score: 0.1746)\n",
            "2. Invercargill (Score: 0.4206)\n",
            "3. Cromwell (Score: 0.4841)\n",
            "\n",
            "\n",
            "Testing Wood Burner:\n",
            "Ranking of source towns for target town 'Invercargill':\n",
            "1. Cromwell (Score: 0.0282)\n",
            "2. Masterton (Score: 0.2021)\n",
            "3. Reefton (Score: 0.3436)\n",
            "\n",
            "\n",
            "Ranking of source towns for target town 'Cromwell':\n",
            "1. Invercargill (Score: 0.0282)\n",
            "2. Reefton (Score: 0.0412)\n",
            "3. Masterton (Score: 0.5869)\n",
            "\n",
            "\n",
            "Ranking of source towns for target town 'Masterton':\n",
            "1. Reefton (Score: 0.1326)\n",
            "2. Invercargill (Score: 0.2021)\n",
            "3. Cromwell (Score: 0.5869)\n",
            "\n",
            "\n",
            "Ranking of source towns for target town 'Reefton':\n",
            "1. Cromwell (Score: 0.0412)\n",
            "2. Masterton (Score: 0.1326)\n",
            "3. Invercargill (Score: 0.3436)\n",
            "\n",
            "\n"
          ]
        }
      ]
    },
    {
      "cell_type": "code",
      "source": [
        "def calculateWeight(w1,w2,w3,w4,w5):\n",
        "  total = w1+w2+w3+w4+w5\n",
        "  w1_result = w1/total\n",
        "  w2_result = w2/total\n",
        "  w3_result = w3/total\n",
        "  w4_result = w4/total\n",
        "  w5_result = w5/total\n",
        "\n",
        "  return([w1_result,w2_result,w3_result,w4_result,w5_result])\n",
        "\n"
      ],
      "metadata": {
        "id": "iWkgOSgWag9H"
      },
      "execution_count": null,
      "outputs": []
    },
    {
      "cell_type": "code",
      "source": [
        "calculateWeight(10,7,10,1,4)"
      ],
      "metadata": {
        "colab": {
          "base_uri": "https://localhost:8080/"
        },
        "id": "0U99NH8RbG5T",
        "outputId": "1088f225-8481-458f-b83b-e8ca7288749f"
      },
      "execution_count": null,
      "outputs": [
        {
          "output_type": "execute_result",
          "data": {
            "text/plain": [
              "[0.3125, 0.21875, 0.3125, 0.03125, 0.125]"
            ]
          },
          "metadata": {},
          "execution_count": 22
        }
      ]
    },
    {
      "cell_type": "code",
      "source": [
        "weights = calculateWeight(10,7,10,1,4)\n",
        "weight_set_rankings = {}\n",
        "current_weight_id = \"No Wood Burner\"\n",
        "wind_weight = weights[0]\n",
        "pressure_weight = weights[1]\n",
        "density_weight = weights[2]\n",
        "altitude_weight = weights[3]\n",
        "woodburner_weight = weights[4]\n",
        "\n",
        "\n",
        "result_rankings = calculate_town_rankings(town_names, town_wind, town_pressure, town_density, town_altitude,town_woodburner,\n",
        "                                              wind_weight, pressure_weight, density_weight, altitude_weight, woodburner_weight)\n",
        "\n",
        "weight_set_rankings[current_weight_id] = result_rankings\n",
        "\n",
        "# Print the stored rankings for each weight set\n",
        "for weight_set, result_rankings in weight_set_rankings.items():\n",
        "    print(f\"Testing {weight_set}:\")\n",
        "    print(f\"Weights, Wind: {wind_weight}, Pressure: {pressure_weight}, Density: {density_weight}, Altitude: {altitude_weight}, Word Burner: {woodburner_weight}\")\n",
        "    for target_town, source_rankings in result_rankings.items():\n",
        "        print(f\"Ranking of source towns for target town '{target_town}':\")\n",
        "        for rank, (source_town, score) in enumerate(source_rankings, start=1):\n",
        "            print(f\"{rank}. {source_town} (Score: {score:.4f})\")\n",
        "        print(\"\\n\")"
      ],
      "metadata": {
        "colab": {
          "base_uri": "https://localhost:8080/"
        },
        "id": "aba39N3KZ8TX",
        "outputId": "a2863610-e9b5-433b-898e-4349e5cffb6e"
      },
      "execution_count": null,
      "outputs": [
        {
          "output_type": "stream",
          "name": "stdout",
          "text": [
            "Testing No Wood Burner:\n",
            "Weights, Wind: 0.3125, Pressure: 0.21875, Density: 0.3125, Altitude: 0.03125, Word Burner: 0.125\n",
            "Ranking of source towns for target town 'Invercargill':\n",
            "1. Cromwell (Score: 0.0440)\n",
            "2. Reefton (Score: 0.1094)\n",
            "3. Masterton (Score: 0.1307)\n",
            "\n",
            "\n",
            "Ranking of source towns for target town 'Cromwell':\n",
            "1. Invercargill (Score: 0.0440)\n",
            "2. Reefton (Score: 0.1582)\n",
            "3. Masterton (Score: 0.2184)\n",
            "\n",
            "\n",
            "Ranking of source towns for target town 'Masterton':\n",
            "1. Invercargill (Score: 0.1307)\n",
            "2. Reefton (Score: 0.1963)\n",
            "3. Cromwell (Score: 0.2184)\n",
            "\n",
            "\n",
            "Ranking of source towns for target town 'Reefton':\n",
            "1. Invercargill (Score: 0.1094)\n",
            "2. Cromwell (Score: 0.1582)\n",
            "3. Masterton (Score: 0.1963)\n",
            "\n",
            "\n"
          ]
        }
      ]
    }
  ]
}